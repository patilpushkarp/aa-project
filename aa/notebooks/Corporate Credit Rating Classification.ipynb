{
 "cells": [
  {
   "cell_type": "markdown",
   "id": "9080bf42",
   "metadata": {},
   "source": [
    "# Classification: Corporate Credit Rating"
   ]
  },
  {
   "cell_type": "markdown",
   "id": "559f05e4",
   "metadata": {},
   "source": [
    "A corporate credit rating is a numerical or quantified assessment of a company's creditworthiness, which shows investors the likelihood of a company defaulting on its debt obligations or outstanding bonds. These ratings are issued by rating agencies agencies which helps investors decide how risky it is to invest in a specific country, security, or bond by providing independent, objective assessments of the creditworthiness of companies and countries.  {cite}`heakal_2022`.\n",
    "Corporate cresit rating assessment is crucial for credit risk management of the financial institutionsas well as governments across the globe. It helps financial institutions to guage the debtors ability to meet its payable obligations. Apart from financial institutions and governments, it is also used by debt investors and bond issuers to manage financial risks. Credit rating is heavily relied on to make better decision makings and for making regulatory changes. A few of the well known credit reting agencies include Standard and Poors's, Moody's, Fitch's etc. These agencies charge a hefty amount as a lot of resources in performing the credit rating process. Also, the ratings provided by these agencies may experience a lag which may not represent the real situation. Thus, it is necessary to simulate the credit rating process.\n",
    "The prediction accuracy of credit rating has a significant impact on financial institutions’ profitability and government regulations. Even a 1% improvement on the prediction accuracy of the corporate credit rating will decrease a significant loss and risk for both financial institutions and government {cite}`wang_ku_2021`. "
   ]
  },
  {
   "cell_type": "markdown",
   "id": "064f6e09",
   "metadata": {},
   "source": [
    "## Key Related News\n",
    "\n",
    "1. [Fitch Downgrades Credit Suisse Group to 'BBB'; Outlook Negative](https://www.fitchratings.com/research/banks/fitch-downgrades-credit-suisse-group-to-bbb-outlook-negative-04-08-2022)\n",
    "2. [Moody's assigns Meta Platforms' new bond issuance A1 senior unsecured debt ratings; outlook stable](https://www.moodys.com/research/Moodys-assigns-Meta-Platforms-new-bond-issuance-A1-senior-unsecured--PR_468358)\n",
    "3. [AAA bond ratings paint healthy financial picture for city of Suffolk](https://www.suffolknewsherald.com/2022/08/06/aaa-bond-ratings-paint-healthy-financial-picture-for-city-of-suffolk/)\n",
    "4. [RBI cracks down on ‘credit enhancement’ by rating agencies](https://timesofindia.indiatimes.com/business/india-business/rbi-cracks-down-on-credit-enhancement-by-rating-agencies/articleshow/93379948.cms)"
   ]
  },
  {
   "cell_type": "code",
   "execution_count": 1,
   "id": "b733bd0d",
   "metadata": {
    "vscode": {
     "languageId": "r"
    }
   },
   "outputs": [
    {
     "name": "stderr",
     "output_type": "stream",
     "text": [
      "Loading required package: ggplot2\n",
      "\n",
      "Loading required package: lattice\n",
      "\n"
     ]
    }
   ],
   "source": [
    "library(caret)"
   ]
  },
  {
   "cell_type": "markdown",
   "id": "1b3f44fb",
   "metadata": {},
   "source": [
    "## About the dataset\n",
    "\n",
    "The dataset named \"[Corporate Credit Rating with Financial Ratios](https://www.kaggle.com/datasets/kirtandelwadia/corporate-credit-rating-with-financial-ratios)\" is sourced from kaggle. \n",
    "\n",
    "### Dataset Description\n",
    "Corporate credit ratings, issued by specialist agencies, provide an assessment about the credit worthiness of a company and acts as a pivotal financial indication to potential investors. It helps provide investors with a concrete idea about the risk associated with the company’s credit investment returns. Every company aims to attain a good credit rating for seeking more investment and lower debt interest rates.\n",
    "Most of the credit rating agencies have a unique discrete ordinal rating scale. The rating scale of the S&P is: {AAA, AA+, AA, AA−, A+, A, A−, BBB+, BBB, BBB−, BB+, BB, BB−, B+, B, B−, CCC+, CCC, CCC−, CC, C, D} – a total of 22 grades that are ordered from AAA, the most promising one to D, the most risky one. S&P broadly classifies the companies with rating higher than BB+ as investment grade companies and others as junk grade companies. Credit ratings are mostly determined by financial ratios coming from balance sheets, income statements, and cash-flow statements.\n",
    "\n",
    "|Feature|Measurements|\n",
    "|--|--|\n",
    "|Timeframe|2010-2016|\n",
    "|Datapoints|7805|\n",
    "|Companies Covered|678|\n",
    "|Rating Agency|7|\n",
    "|Sector|12|\n",
    "|Rating Scale|S&P 22-grades|\n",
    "|Financial Ratios|16|\n",
    "\n",
    "The size of the dataset is approximately 1.64 MB."
   ]
  },
  {
   "cell_type": "code",
   "execution_count": 2,
   "id": "81da1257",
   "metadata": {
    "vscode": {
     "languageId": "r"
    }
   },
   "outputs": [],
   "source": [
    "# Read the data\n",
    "df <- read.csv('./../data/classification_data/input/corporate_credit_rating.csv')"
   ]
  },
  {
   "cell_type": "code",
   "execution_count": 3,
   "id": "8831495b",
   "metadata": {
    "vscode": {
     "languageId": "r"
    }
   },
   "outputs": [
    {
     "data": {
      "text/html": [
       "<style>\n",
       ".list-inline {list-style: none; margin:0; padding: 0}\n",
       ".list-inline>li {display: inline-block}\n",
       ".list-inline>li:not(:last-child)::after {content: \"\\00b7\"; padding: 0 .5ex}\n",
       "</style>\n",
       "<ol class=list-inline><li>7805</li><li>25</li></ol>\n"
      ],
      "text/latex": [
       "\\begin{enumerate*}\n",
       "\\item 7805\n",
       "\\item 25\n",
       "\\end{enumerate*}\n"
      ],
      "text/markdown": [
       "1. 7805\n",
       "2. 25\n",
       "\n",
       "\n"
      ],
      "text/plain": [
       "[1] 7805   25"
      ]
     },
     "metadata": {},
     "output_type": "display_data"
    }
   ],
   "source": [
    "# Get the dimensions of data\n",
    "dim(df)"
   ]
  },
  {
   "cell_type": "markdown",
   "id": "db02cd13",
   "metadata": {},
   "source": [
    "The dataset has 7805 rows and 25 columns"
   ]
  },
  {
   "cell_type": "markdown",
   "id": "04f5e638",
   "metadata": {},
   "source": [
    "## Features Description"
   ]
  },
  {
   "cell_type": "markdown",
   "id": "bda7247e",
   "metadata": {},
   "source": [
    "The corporate credit rating is based on the financial statements of the company which tells us about the financial health of the company. Financial ratios from the financial statements are used to calculate the credit rating."
   ]
  },
  {
   "cell_type": "code",
   "execution_count": 4,
   "id": "d6f18049",
   "metadata": {
    "vscode": {
     "languageId": "r"
    }
   },
   "outputs": [
    {
     "data": {
      "text/html": [
       "<style>\n",
       ".list-inline {list-style: none; margin:0; padding: 0}\n",
       ".list-inline>li {display: inline-block}\n",
       ".list-inline>li:not(:last-child)::after {content: \"\\00b7\"; padding: 0 .5ex}\n",
       "</style>\n",
       "<ol class=list-inline><li>'Rating.Agency'</li><li>'Corporation'</li><li>'Rating'</li><li>'Rating.Date'</li><li>'CIK'</li><li>'Binary.Rating'</li><li>'SIC.Code'</li><li>'Sector'</li><li>'Ticker'</li><li>'Current.Ratio'</li><li>'Long.term.Debt...Capital'</li><li>'Debt.Equity.Ratio'</li><li>'Gross.Margin'</li><li>'Operating.Margin'</li><li>'EBIT.Margin'</li><li>'EBITDA.Margin'</li><li>'Pre.Tax.Profit.Margin'</li><li>'Net.Profit.Margin'</li><li>'Asset.Turnover'</li><li>'ROE...Return.On.Equity'</li><li>'Return.On.Tangible.Equity'</li><li>'ROA...Return.On.Assets'</li><li>'ROI...Return.On.Investment'</li><li>'Operating.Cash.Flow.Per.Share'</li><li>'Free.Cash.Flow.Per.Share'</li></ol>\n"
      ],
      "text/latex": [
       "\\begin{enumerate*}\n",
       "\\item 'Rating.Agency'\n",
       "\\item 'Corporation'\n",
       "\\item 'Rating'\n",
       "\\item 'Rating.Date'\n",
       "\\item 'CIK'\n",
       "\\item 'Binary.Rating'\n",
       "\\item 'SIC.Code'\n",
       "\\item 'Sector'\n",
       "\\item 'Ticker'\n",
       "\\item 'Current.Ratio'\n",
       "\\item 'Long.term.Debt...Capital'\n",
       "\\item 'Debt.Equity.Ratio'\n",
       "\\item 'Gross.Margin'\n",
       "\\item 'Operating.Margin'\n",
       "\\item 'EBIT.Margin'\n",
       "\\item 'EBITDA.Margin'\n",
       "\\item 'Pre.Tax.Profit.Margin'\n",
       "\\item 'Net.Profit.Margin'\n",
       "\\item 'Asset.Turnover'\n",
       "\\item 'ROE...Return.On.Equity'\n",
       "\\item 'Return.On.Tangible.Equity'\n",
       "\\item 'ROA...Return.On.Assets'\n",
       "\\item 'ROI...Return.On.Investment'\n",
       "\\item 'Operating.Cash.Flow.Per.Share'\n",
       "\\item 'Free.Cash.Flow.Per.Share'\n",
       "\\end{enumerate*}\n"
      ],
      "text/markdown": [
       "1. 'Rating.Agency'\n",
       "2. 'Corporation'\n",
       "3. 'Rating'\n",
       "4. 'Rating.Date'\n",
       "5. 'CIK'\n",
       "6. 'Binary.Rating'\n",
       "7. 'SIC.Code'\n",
       "8. 'Sector'\n",
       "9. 'Ticker'\n",
       "10. 'Current.Ratio'\n",
       "11. 'Long.term.Debt...Capital'\n",
       "12. 'Debt.Equity.Ratio'\n",
       "13. 'Gross.Margin'\n",
       "14. 'Operating.Margin'\n",
       "15. 'EBIT.Margin'\n",
       "16. 'EBITDA.Margin'\n",
       "17. 'Pre.Tax.Profit.Margin'\n",
       "18. 'Net.Profit.Margin'\n",
       "19. 'Asset.Turnover'\n",
       "20. 'ROE...Return.On.Equity'\n",
       "21. 'Return.On.Tangible.Equity'\n",
       "22. 'ROA...Return.On.Assets'\n",
       "23. 'ROI...Return.On.Investment'\n",
       "24. 'Operating.Cash.Flow.Per.Share'\n",
       "25. 'Free.Cash.Flow.Per.Share'\n",
       "\n",
       "\n"
      ],
      "text/plain": [
       " [1] \"Rating.Agency\"                 \"Corporation\"                  \n",
       " [3] \"Rating\"                        \"Rating.Date\"                  \n",
       " [5] \"CIK\"                           \"Binary.Rating\"                \n",
       " [7] \"SIC.Code\"                      \"Sector\"                       \n",
       " [9] \"Ticker\"                        \"Current.Ratio\"                \n",
       "[11] \"Long.term.Debt...Capital\"      \"Debt.Equity.Ratio\"            \n",
       "[13] \"Gross.Margin\"                  \"Operating.Margin\"             \n",
       "[15] \"EBIT.Margin\"                   \"EBITDA.Margin\"                \n",
       "[17] \"Pre.Tax.Profit.Margin\"         \"Net.Profit.Margin\"            \n",
       "[19] \"Asset.Turnover\"                \"ROE...Return.On.Equity\"       \n",
       "[21] \"Return.On.Tangible.Equity\"     \"ROA...Return.On.Assets\"       \n",
       "[23] \"ROI...Return.On.Investment\"    \"Operating.Cash.Flow.Per.Share\"\n",
       "[25] \"Free.Cash.Flow.Per.Share\"     "
      ]
     },
     "metadata": {},
     "output_type": "display_data"
    }
   ],
   "source": [
    "colnames(df)"
   ]
  },
  {
   "cell_type": "markdown",
   "id": "e359633e",
   "metadata": {},
   "source": [
    "|Sr. No.|Features|Description|\n",
    "|--|:--|:--|\n",
    "|1|Rating Agency|Name of the agency who provided the rating|\n",
    "|2|Corporation|Name of the corporation or company for which the rating is provided|\n",
    "|3|Rating|Rating given to the Corporation by the Rating Agency|\n",
    "|4|Rating Date|Gives the date at which the company was rated|\n",
    "|5|CIK|Unique identifier for the company provided by SEC|\n",
    "|6|Binary Rating|Binary representation of rating, where '0' represents junk grade company while '1' represents investment|\n",
    "|7|SIC Code|Standard Industrial Classification Codes (SIC Codes) are used to identify primary line of business of a company|\n",
    "|8|Sector|Provides business sector of a company. For e.g. the sector of Starbucks is 'Shops'|\n",
    "|9|Ticker|Unique Identifier of a company in the tradable market|\n",
    "|10|Current Ratio|Current ratio of the corporation|\n",
    "|11|Long-term Debt Capital|Long-term loans of the corporation|\n",
    "|12|Debt-Equity Ratio|Debt to Equity ratio of the corporation|\n",
    "|13|Gross Margin|Gross margin of the corporation|\n",
    "|14|Operating Margin|Operating Margin of the corporation|\n",
    "|15|EBIT Margin|Earnings Before Interest Tax Margin of the corporation|\n",
    "|16|EBITDA Margin|Earnings Before Interest Tax Depreciation and Amortization Margin of the corporation|\n",
    "|17|Pre-Tax Profit Margin|Pre-tax profit margin of the corporation|\n",
    "|18|Net Profit Margin|Net profit margin of the corporation|\n",
    "|19|Asset Turnover|Asset Turnover ratio of the corporation|\n",
    "|20|ROE - Return on Equity|Return on Equity ratio of the corporation|\n",
    "|21|Return on Tangible Equity|Return on Tangible Equity ratio of the corporation|\n",
    "|22|ROA - Return on Assets|Return on Assets ratio of the corporation|\n",
    "|23|ROI - Return on Investments|Return on Investments ratio of the corporation|\n",
    "|24|Operating Cash Flow Per Share|Operating cash flow per share of the corporation|\n",
    "|25|Free cash flow per share|Free cash flow per share of the corporation||"
   ]
  },
  {
   "cell_type": "code",
   "execution_count": null,
   "id": "869922e1",
   "metadata": {},
   "outputs": [],
   "source": []
  }
 ],
 "metadata": {
  "kernelspec": {
   "display_name": "R",
   "language": "R",
   "name": "ir"
  },
  "language_info": {
   "codemirror_mode": "r",
   "file_extension": ".r",
   "mimetype": "text/x-r-source",
   "name": "R",
   "pygments_lexer": "r",
   "version": "4.1.3"
  }
 },
 "nbformat": 4,
 "nbformat_minor": 5
}
