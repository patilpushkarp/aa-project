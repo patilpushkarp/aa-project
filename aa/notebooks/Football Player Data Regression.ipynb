{
 "cells": [
  {
   "cell_type": "markdown",
   "id": "0a16198a",
   "metadata": {},
   "source": [
    "# Regression: Football Manager 2022 Player Data"
   ]
  },
  {
   "cell_type": "markdown",
   "id": "462dd660",
   "metadata": {},
   "source": [
    "Football Manager 2022 (officially abbreviated as FM22) is a 2021 football-management simulation video game developed by Sports Interactive and published by Sega. It was released worldwide for Microsoft Windows and macOS on 8 November 2021. Football Manager 2022 Xbox Edition was released on Xbox Game Pass, and Football Manager 2022 Mobile for iOS and Android on the same day. The streamlined version of the game titled Football Manager 2022 Touch was released exclusively for Nintendo Switch on 8 November 2021 {cite}`wikipedia_2022`."
   ]
  },
  {
   "cell_type": "markdown",
   "id": "bf11f8c3",
   "metadata": {},
   "source": [
    "## About the dataset"
   ]
  },
  {
   "cell_type": "markdown",
   "id": "99c3db31",
   "metadata": {},
   "source": [
    "The data \"[Football Manager 2022 Player Data](https://www.kaggle.com/code/gabrielabilleira/predicting-current-ability-for-players-in-fm2022)\" is sourced from kaggle."
   ]
  },
  {
   "cell_type": "markdown",
   "id": "423fa361",
   "metadata": {},
   "source": [
    "### Data Desciption"
   ]
  },
  {
   "cell_type": "markdown",
   "id": "e59e8ff9",
   "metadata": {},
   "source": [
    "Player data from the game Football Manager 2022 that contains statistics from player performance in matches and transfer value. The data is obtained directly from the game and it is aimed mostly to try to predict the Current Ability of the players.  \n",
    "Current Ability (CA) measures the player's ability for a specific position. It has a direct relation with the players attributes (at least the ones that are important for said position). This measure is not directly observable in the game. Scouts can fail depending on their ability and they may not be able to determine the players ability with high accuracy since they do that manually. Moreover, calculating the CA for every player would be very slow. Hence it is required to automate the process."
   ]
  },
  {
   "cell_type": "code",
   "execution_count": 1,
   "id": "508d9c59",
   "metadata": {},
   "outputs": [],
   "source": [
    "# Read the data\n",
    "df <- read.csv('./../data/regression_data/input/player_data.csv')"
   ]
  },
  {
   "cell_type": "code",
   "execution_count": 2,
   "id": "02c0d3a5",
   "metadata": {},
   "outputs": [
    {
     "data": {
      "text/html": [
       "<style>\n",
       ".list-inline {list-style: none; margin:0; padding: 0}\n",
       ".list-inline>li {display: inline-block}\n",
       ".list-inline>li:not(:last-child)::after {content: \"\\00b7\"; padding: 0 .5ex}\n",
       "</style>\n",
       "<ol class=list-inline><li>1122</li><li>45</li></ol>\n"
      ],
      "text/latex": [
       "\\begin{enumerate*}\n",
       "\\item 1122\n",
       "\\item 45\n",
       "\\end{enumerate*}\n"
      ],
      "text/markdown": [
       "1. 1122\n",
       "2. 45\n",
       "\n",
       "\n"
      ],
      "text/plain": [
       "[1] 1122   45"
      ]
     },
     "metadata": {},
     "output_type": "display_data"
    }
   ],
   "source": [
    "# Get the dimensions of data\n",
    "dim(df)"
   ]
  },
  {
   "cell_type": "markdown",
   "id": "56beb7b2",
   "metadata": {},
   "source": [
    "There are 1122 observations and 44 features in the data with 1 target variable."
   ]
  },
  {
   "cell_type": "markdown",
   "id": "298a1f57",
   "metadata": {},
   "source": [
    "### Feature Desciption"
   ]
  },
  {
   "cell_type": "markdown",
   "id": "386b53a6",
   "metadata": {},
   "source": [
    "The data used for this purpose comes from each player performance, which is easier to obtain and is usually more abundant."
   ]
  },
  {
   "cell_type": "code",
   "execution_count": 4,
   "id": "22d0e264",
   "metadata": {},
   "outputs": [
    {
     "data": {
      "text/html": [
       "<style>\n",
       ".list-inline {list-style: none; margin:0; padding: 0}\n",
       ".list-inline>li {display: inline-block}\n",
       ".list-inline>li:not(:last-child)::after {content: \"\\00b7\"; padding: 0 .5ex}\n",
       "</style>\n",
       "<ol class=list-inline><li>'X'</li><li>'Name'</li><li>'Apps'</li><li>'Mins'</li><li>'Mins.Gm'</li><li>'Height'</li><li>'Weight'</li><li>'Age'</li><li>'Av.Rat'</li><li>'Gls'</li><li>'Gls.90'</li><li>'Shot..'</li><li>'Pen.R'</li><li>'xG'</li><li>'Ch.C.90'</li><li>'Asts.90'</li><li>'K.Ps.90'</li><li>'Pas..'</li><li>'Cr.C.A'</li><li>'Drb.90'</li><li>'Distance'</li><li>'Hdr..'</li><li>'K.Tck'</li><li>'Fls'</li><li>'Int.90'</li><li>'Clear'</li><li>'Con.90'</li><li>'xSv..'</li><li>'Sv..'</li><li>'Svh'</li><li>'Svt'</li><li>'Svp'</li><li>'Pens.Saved.Ratio'</li><li>'PoM'</li><li>'Aer.A.90'</li><li>'Off'</li><li>'Based'</li><li>'Tck.R'</li><li>'CA'</li><li>'Saves'</li><li>'Saves.xSv.'</li><li>'Gls.xG'</li><li>'Dist.Mins'</li><li>'Transfer.Value'</li><li>'Value'</li></ol>\n"
      ],
      "text/latex": [
       "\\begin{enumerate*}\n",
       "\\item 'X'\n",
       "\\item 'Name'\n",
       "\\item 'Apps'\n",
       "\\item 'Mins'\n",
       "\\item 'Mins.Gm'\n",
       "\\item 'Height'\n",
       "\\item 'Weight'\n",
       "\\item 'Age'\n",
       "\\item 'Av.Rat'\n",
       "\\item 'Gls'\n",
       "\\item 'Gls.90'\n",
       "\\item 'Shot..'\n",
       "\\item 'Pen.R'\n",
       "\\item 'xG'\n",
       "\\item 'Ch.C.90'\n",
       "\\item 'Asts.90'\n",
       "\\item 'K.Ps.90'\n",
       "\\item 'Pas..'\n",
       "\\item 'Cr.C.A'\n",
       "\\item 'Drb.90'\n",
       "\\item 'Distance'\n",
       "\\item 'Hdr..'\n",
       "\\item 'K.Tck'\n",
       "\\item 'Fls'\n",
       "\\item 'Int.90'\n",
       "\\item 'Clear'\n",
       "\\item 'Con.90'\n",
       "\\item 'xSv..'\n",
       "\\item 'Sv..'\n",
       "\\item 'Svh'\n",
       "\\item 'Svt'\n",
       "\\item 'Svp'\n",
       "\\item 'Pens.Saved.Ratio'\n",
       "\\item 'PoM'\n",
       "\\item 'Aer.A.90'\n",
       "\\item 'Off'\n",
       "\\item 'Based'\n",
       "\\item 'Tck.R'\n",
       "\\item 'CA'\n",
       "\\item 'Saves'\n",
       "\\item 'Saves.xSv.'\n",
       "\\item 'Gls.xG'\n",
       "\\item 'Dist.Mins'\n",
       "\\item 'Transfer.Value'\n",
       "\\item 'Value'\n",
       "\\end{enumerate*}\n"
      ],
      "text/markdown": [
       "1. 'X'\n",
       "2. 'Name'\n",
       "3. 'Apps'\n",
       "4. 'Mins'\n",
       "5. 'Mins.Gm'\n",
       "6. 'Height'\n",
       "7. 'Weight'\n",
       "8. 'Age'\n",
       "9. 'Av.Rat'\n",
       "10. 'Gls'\n",
       "11. 'Gls.90'\n",
       "12. 'Shot..'\n",
       "13. 'Pen.R'\n",
       "14. 'xG'\n",
       "15. 'Ch.C.90'\n",
       "16. 'Asts.90'\n",
       "17. 'K.Ps.90'\n",
       "18. 'Pas..'\n",
       "19. 'Cr.C.A'\n",
       "20. 'Drb.90'\n",
       "21. 'Distance'\n",
       "22. 'Hdr..'\n",
       "23. 'K.Tck'\n",
       "24. 'Fls'\n",
       "25. 'Int.90'\n",
       "26. 'Clear'\n",
       "27. 'Con.90'\n",
       "28. 'xSv..'\n",
       "29. 'Sv..'\n",
       "30. 'Svh'\n",
       "31. 'Svt'\n",
       "32. 'Svp'\n",
       "33. 'Pens.Saved.Ratio'\n",
       "34. 'PoM'\n",
       "35. 'Aer.A.90'\n",
       "36. 'Off'\n",
       "37. 'Based'\n",
       "38. 'Tck.R'\n",
       "39. 'CA'\n",
       "40. 'Saves'\n",
       "41. 'Saves.xSv.'\n",
       "42. 'Gls.xG'\n",
       "43. 'Dist.Mins'\n",
       "44. 'Transfer.Value'\n",
       "45. 'Value'\n",
       "\n",
       "\n"
      ],
      "text/plain": [
       " [1] \"X\"                \"Name\"             \"Apps\"             \"Mins\"            \n",
       " [5] \"Mins.Gm\"          \"Height\"           \"Weight\"           \"Age\"             \n",
       " [9] \"Av.Rat\"           \"Gls\"              \"Gls.90\"           \"Shot..\"          \n",
       "[13] \"Pen.R\"            \"xG\"               \"Ch.C.90\"          \"Asts.90\"         \n",
       "[17] \"K.Ps.90\"          \"Pas..\"            \"Cr.C.A\"           \"Drb.90\"          \n",
       "[21] \"Distance\"         \"Hdr..\"            \"K.Tck\"            \"Fls\"             \n",
       "[25] \"Int.90\"           \"Clear\"            \"Con.90\"           \"xSv..\"           \n",
       "[29] \"Sv..\"             \"Svh\"              \"Svt\"              \"Svp\"             \n",
       "[33] \"Pens.Saved.Ratio\" \"PoM\"              \"Aer.A.90\"         \"Off\"             \n",
       "[37] \"Based\"            \"Tck.R\"            \"CA\"               \"Saves\"           \n",
       "[41] \"Saves.xSv.\"       \"Gls.xG\"           \"Dist.Mins\"        \"Transfer.Value\"  \n",
       "[45] \"Value\"           "
      ]
     },
     "metadata": {},
     "output_type": "display_data"
    }
   ],
   "source": [
    "colnames(df)"
   ]
  },
  {
   "cell_type": "markdown",
   "id": "2987e2e7",
   "metadata": {},
   "source": [
    "|Sr. No.|Features|Description|\n",
    "|--|:--|:--|\n",
    "|1|X|Index number of the observation|\n",
    "|2|Name|Name of the player|\n",
    "|3|Apps|Number of appearances|\n",
    "|4|Mins|Total Minutes played|\n",
    "|5|Mins/Gm|Minutes played per game|"
   ]
  },
  {
   "cell_type": "code",
   "execution_count": null,
   "id": "2dc0747d",
   "metadata": {},
   "outputs": [],
   "source": []
  }
 ],
 "metadata": {
  "kernelspec": {
   "display_name": "R",
   "language": "R",
   "name": "ir"
  },
  "language_info": {
   "codemirror_mode": "r",
   "file_extension": ".r",
   "mimetype": "text/x-r-source",
   "name": "R",
   "pygments_lexer": "r",
   "version": "4.1.3"
  }
 },
 "nbformat": 4,
 "nbformat_minor": 5
}
